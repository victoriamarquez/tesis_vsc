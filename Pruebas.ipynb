{
 "cells": [
  {
   "cell_type": "markdown",
   "id": "d18b0a61-17a6-41dd-a172-3abd02da8b79",
   "metadata": {},
   "source": [
    "# Pruebas\n",
    "\n",
    "Buenas!\n",
    "\n",
    "Como verás, armé un repo nuevo pero esta vez manejé mejor los archivos y quedó más prolijo (tuve problemas con el otro repo y me cansé de pelear con eso).\n",
    "\n",
    "Considerando que había errores en la forma en la que estaba obteniendo los vectores de las emociones, decidí hacer algunas pruebas en un notebook, que es un poco más dinámico. Como es solo para hacer pruebas, estoy usando solo regresión lineal, podria intentar lo mismo con PCA, pero primero me gustaría saber si tiene sentido lógico lo que estoy haciendo.\n",
    "\n",
    "Por favor, me gustaría que le pegues una leída al código, para ver si te parece que lo que estoy haciendo tiene sentido. Sentite libre de hacer cualquier modificación. Esto debería andar bien en otras compus, pero si no anda avisame y te paso acceso a mi usuario."
   ]
  },
  {
   "cell_type": "markdown",
   "id": "bf118b09-350e-48a9-82c9-c2c97c4941cd",
   "metadata": {},
   "source": [
    "## Definiciones"
   ]
  },
  {
   "cell_type": "code",
   "execution_count": 1,
   "id": "15ff9269-bcf9-48e7-8f0d-86e54ed18959",
   "metadata": {
    "scrolled": true
   },
   "outputs": [],
   "source": [
    "import os\n",
    "import numpy as np\n",
    "import pandas as pd\n",
    "from sklearn.preprocessing import normalize\n",
    "from sklearn.linear_model import LinearRegression\n",
    "\n",
    "def load_latent_vector(name):\n",
    "    \"\"\"Carga el vector latente desde un archivo .npz basado en el nombre de la imagen.\"\"\"\n",
    "    path = f'./images/results_BU_3DFE/{name}/projected_w.npz'\n",
    "    if not os.path.exists(path):\n",
    "        raise FileNotFoundError(f\"El archivo {path} no existe.\")\n",
    "    data = np.load(path)\n",
    "    return data['w']\n",
    "\n",
    "def normalize_vectors(vectors):\n",
    "    \"\"\"Normaliza una lista de vectores usando norma L2.\"\"\"\n",
    "    original_shape = vectors.shape  # Guardamos la forma original\n",
    "    vectors = vectors.reshape(vectors.shape[0], -1)  # Aplanamos a (N, D)\n",
    "    vectors = normalize(vectors, axis=1)  # Normalizamos en la dimensión correcta\n",
    "    return vectors.reshape(original_shape)  # Restauramos la forma original\n",
    "\n",
    "def method_1_average_then_regression(df):\n",
    "    \"\"\"Método 1: Promedia los vectores por emoción y aplica regresión.\"\"\"\n",
    "    results = {}\n",
    "    emotions = ['DI', 'HA', 'SU', 'AN', 'SA', 'FE']\n",
    "    \n",
    "    for emotion in emotions:\n",
    "        subset = df[df['exp'] == emotion]\n",
    "        vectors = np.array([load_latent_vector(name) for name in subset['name']])\n",
    "        vectors = normalize_vectors(vectors)\n",
    "        avg_vector = np.mean(vectors, axis=0)\n",
    "        \n",
    "        X = np.arange(len(vectors)).reshape(-1, 1)\n",
    "        y = vectors.reshape(vectors.shape[0], -1)  # Aplanamos los vectores antes de la regresión\n",
    "\n",
    "        model = LinearRegression().fit(X, y)\n",
    "        results[emotion] = model.coef_.reshape(1, 18, 512)  # Restauramos la forma original\n",
    "    \n",
    "    return results\n",
    "\n",
    "def method_2_regression_by_emotion_and_level(df):\n",
    "    \"\"\"Método 2: Aplica regresión a cada emoción y nivel de intensidad.\"\"\"\n",
    "    results = {}\n",
    "    emotions = ['DI', 'HA', 'SU', 'AN', 'SA', 'FE']\n",
    "    \n",
    "    for emotion in emotions:\n",
    "        results[emotion] = {}  # Ahora almacenamos los resultados por nivel\n",
    "        \n",
    "        for level in sorted(df['exp_level'].unique()):\n",
    "            subset = df[(df['exp'] == emotion) & (df['exp_level'] == level)]\n",
    "            if subset.empty:\n",
    "                continue\n",
    "            vectors = np.array([load_latent_vector(name) for name in subset['name']])\n",
    "            vectors = normalize_vectors(vectors)\n",
    "            \n",
    "            X = np.arange(len(vectors)).reshape(-1, 1)\n",
    "            y = vectors.reshape(vectors.shape[0], -1)  # Aplanamos los vectores antes de la regresión\n",
    "            \n",
    "            model = LinearRegression().fit(X, y)\n",
    "            results[emotion][level] = model.coef_.reshape(1, 18, 512)  # Guardamos cada nivel separadamente\n",
    "    \n",
    "    return results\n",
    "\n",
    "def method_3_regression_with_level_variable(df):\n",
    "    \"\"\"Método 3: Incluye el nivel como variable numérica en la regresión.\"\"\"\n",
    "    results = {}\n",
    "    emotions = ['DI', 'HA', 'SU', 'AN', 'SA', 'FE']\n",
    "    \n",
    "    for emotion in emotions:\n",
    "        subset = df[df['exp'] == emotion]\n",
    "        vectors = np.array([load_latent_vector(name) for name in subset['name']])\n",
    "        vectors = normalize_vectors(vectors)\n",
    "        levels = subset['exp_level'].values.reshape(-1, 1)\n",
    "\n",
    "        y = vectors.reshape(vectors.shape[0], -1)\n",
    "        \n",
    "        model = LinearRegression().fit(levels, y)\n",
    "        results[emotion] = model.coef_.reshape(1, 18, 512)\n",
    "    \n",
    "    return results\n",
    "\n",
    "def save_results_as_csv(results, filename):\n",
    "    flat_results = {}\n",
    "    \n",
    "    for key, value in results.items():\n",
    "        flat_results[key] = value.flatten()  # Aplanar la matriz\n",
    "    \n",
    "    df = pd.DataFrame.from_dict(flat_results, orient='index')\n",
    "    df.to_csv(filename)\n",
    "\n",
    "    save_results_as_csv(method_1_results, 'method_1_results.csv')\n",
    "\n",
    "\n",
    "def save_results_as_npz(results, filename):\n",
    "    \"\"\"Guarda los resultados en un archivo NPZ.\"\"\"\n",
    "    np.savez(filename, **results)\n"
   ]
  },
  {
   "cell_type": "markdown",
   "id": "6c812396-07ff-4b40-9eb5-a916dce54712",
   "metadata": {},
   "source": [
    "## Cargar los datos"
   ]
  },
  {
   "cell_type": "code",
   "execution_count": 2,
   "id": "f26ce71c-0687-4068-9d9b-424720eb2467",
   "metadata": {},
   "outputs": [],
   "source": [
    "# Cargar datos y ejecutar procesos\n",
    "df = pd.read_csv('./dataframes/processed_dataframe_combined_fallback.csv')\n",
    "\n",
    "# Cuando procesé las imágenes por primera vez, para algunos ids no pude procesar\n",
    "# todas las emociones, así que elimino esos ids para que no causen problemas\n",
    "df['idUnique'] = df['id'].astype(str) + df['gender']\n",
    "ids_malos = [\"39M\", \"17M\", \"22M\", \"14M\", \"2F\"] \n",
    "df = df[~df['idUnique'].isin(ids_malos)]"
   ]
  },
  {
   "cell_type": "markdown",
   "id": "a1573123-1274-4d45-bb56-efa55234257c",
   "metadata": {},
   "source": [
    "## Ejecutar los 3 métodos y guardar como npz"
   ]
  },
  {
   "cell_type": "code",
   "execution_count": 3,
   "id": "e76fe8ff-5e59-40ba-8090-c8973369b0ea",
   "metadata": {},
   "outputs": [
    {
     "name": "stdout",
     "output_type": "stream",
     "text": [
      "Imprimo shape de uno de los vectores para controlar formato:\n",
      "Resultados método 1, 'DI': (1, 18, 512)\n",
      "Resultados método 2, 'DI': (1, 18, 512)\n",
      "Resultados método 3, 'DI': (1, 18, 512)\n"
     ]
    }
   ],
   "source": [
    "method_1_results = method_1_average_then_regression(df)\n",
    "method_2_results = method_2_regression_by_emotion_and_level(df)\n",
    "method_3_results = method_3_regression_with_level_variable(df)\n",
    "\n",
    "print(\"Imprimo shape de uno de los vectores para controlar formato:\")\n",
    "print(\"Resultados método 1, 'DI': \" + str(method_1_results['DI'].shape))\n",
    "print(\"Resultados método 2, 'DI': \" + str(method_2_results['DI'][1].shape))\n",
    "print(\"Resultados método 3, 'DI': \" + str(method_3_results['DI'].shape))\n",
    "\n",
    "# Guardar resultados\n",
    "save_results_as_npz(method_1_results, 'method_1_results.npz')\n",
    "save_results_as_npz(method_2_results, 'method_2_results.npz')\n",
    "save_results_as_npz(method_3_results, 'method_3_results.npz')"
   ]
  },
  {
   "cell_type": "markdown",
   "id": "56b47593-eccd-4642-8ae3-0f2dcff8c9bb",
   "metadata": {},
   "source": [
    "## Printeo la forma de los diccionarios para saber con qué estoy trabajando"
   ]
  },
  {
   "cell_type": "code",
   "execution_count": 4,
   "id": "0c2e35a8-064f-407b-a835-e39bfe9e37d9",
   "metadata": {},
   "outputs": [
    {
     "name": "stdout",
     "output_type": "stream",
     "text": [
      "Forma del diccionario correspondiente al método 1: \n",
      "Clave: DI ; Valor: Array de la forma (1, 18, 512)\n",
      "Clave: HA ; Valor: Array de la forma (1, 18, 512)\n",
      "Clave: SU ; Valor: Array de la forma (1, 18, 512)\n",
      "Clave: AN ; Valor: Array de la forma (1, 18, 512)\n",
      "Clave: SA ; Valor: Array de la forma (1, 18, 512)\n",
      "Clave: FE ; Valor: Array de la forma (1, 18, 512)\n",
      "Fin del diccionario correspondiente al método 1.\n",
      "\n",
      "Forma del diccionario correspondiente al método 2: \n",
      "Clave: DI ; Valor: Diccionario con las siguientes claves: \n",
      "  Clave: 1 ; Valor: Array de la forma (1, 18, 512)\n",
      "  Clave: 2 ; Valor: Array de la forma (1, 18, 512)\n",
      "  Clave: 3 ; Valor: Array de la forma (1, 18, 512)\n",
      "  Clave: 4 ; Valor: Array de la forma (1, 18, 512)\n",
      "Clave: HA ; Valor: Diccionario con las siguientes claves: \n",
      "  Clave: 1 ; Valor: Array de la forma (1, 18, 512)\n",
      "  Clave: 2 ; Valor: Array de la forma (1, 18, 512)\n",
      "  Clave: 3 ; Valor: Array de la forma (1, 18, 512)\n",
      "  Clave: 4 ; Valor: Array de la forma (1, 18, 512)\n",
      "Clave: SU ; Valor: Diccionario con las siguientes claves: \n",
      "  Clave: 1 ; Valor: Array de la forma (1, 18, 512)\n",
      "  Clave: 2 ; Valor: Array de la forma (1, 18, 512)\n",
      "  Clave: 3 ; Valor: Array de la forma (1, 18, 512)\n",
      "  Clave: 4 ; Valor: Array de la forma (1, 18, 512)\n",
      "Clave: AN ; Valor: Diccionario con las siguientes claves: \n",
      "  Clave: 1 ; Valor: Array de la forma (1, 18, 512)\n",
      "  Clave: 2 ; Valor: Array de la forma (1, 18, 512)\n",
      "  Clave: 3 ; Valor: Array de la forma (1, 18, 512)\n",
      "  Clave: 4 ; Valor: Array de la forma (1, 18, 512)\n",
      "Clave: SA ; Valor: Diccionario con las siguientes claves: \n",
      "  Clave: 1 ; Valor: Array de la forma (1, 18, 512)\n",
      "  Clave: 2 ; Valor: Array de la forma (1, 18, 512)\n",
      "  Clave: 3 ; Valor: Array de la forma (1, 18, 512)\n",
      "  Clave: 4 ; Valor: Array de la forma (1, 18, 512)\n",
      "Clave: FE ; Valor: Diccionario con las siguientes claves: \n",
      "  Clave: 1 ; Valor: Array de la forma (1, 18, 512)\n",
      "  Clave: 2 ; Valor: Array de la forma (1, 18, 512)\n",
      "  Clave: 3 ; Valor: Array de la forma (1, 18, 512)\n",
      "  Clave: 4 ; Valor: Array de la forma (1, 18, 512)\n",
      "Fin del diccionario correspondiente al método 2.\n",
      "\n",
      "Forma del diccionario correspondiente al método 3: \n",
      "Clave: DI ; Valor: Array de la forma (1, 18, 512)\n",
      "Clave: HA ; Valor: Array de la forma (1, 18, 512)\n",
      "Clave: SU ; Valor: Array de la forma (1, 18, 512)\n",
      "Clave: AN ; Valor: Array de la forma (1, 18, 512)\n",
      "Clave: SA ; Valor: Array de la forma (1, 18, 512)\n",
      "Clave: FE ; Valor: Array de la forma (1, 18, 512)\n",
      "Fin del diccionario correspondiente al método 3.\n",
      "\n"
     ]
    }
   ],
   "source": [
    "def print_shape(diccionario, indent=0):\n",
    "    for clave, valor in diccionario.items():\n",
    "        # Indentación para la estructura\n",
    "        print(\"  \" * indent + f\"Clave: {clave}\", end=' ')\n",
    "        \n",
    "        if isinstance(valor, dict):\n",
    "            # Si el valor es otro diccionario, lo recorremos recursivamente\n",
    "            print(\"; Valor: Diccionario con las siguientes claves: \")\n",
    "            print_shape(valor, indent + 1)\n",
    "        elif isinstance(valor, np.ndarray):\n",
    "            # Si el valor es un array de NumPy, mostramos su forma\n",
    "            print(f\"; Valor: Array de la forma {valor.shape}\")\n",
    "        elif isinstance(valor, list):\n",
    "            # Si el valor es una lista, mostramos su longitud\n",
    "            print(f\"(Lista) - Shape: {len(valor)}\")\n",
    "        else:\n",
    "            # Si no es ni diccionario, ni array ni lista, solo mostramos el tipo\n",
    "            print(f\"({type(valor).__name__})\")\n",
    "\n",
    "print(\"Forma del diccionario correspondiente al método 1: \")\n",
    "print_shape(method_1_results)\n",
    "print(\"Fin del diccionario correspondiente al método 1.\\n\")\n",
    "print(\"Forma del diccionario correspondiente al método 2: \")\n",
    "print_shape(method_2_results)\n",
    "print(\"Fin del diccionario correspondiente al método 2.\\n\")\n",
    "print(\"Forma del diccionario correspondiente al método 3: \")\n",
    "print_shape(method_3_results)\n",
    "print(\"Fin del diccionario correspondiente al método 3.\\n\")"
   ]
  },
  {
   "cell_type": "markdown",
   "id": "17c567b1-cae2-4726-8d8b-ccd703b6af84",
   "metadata": {},
   "source": [
    "# Intentando analisis de datos"
   ]
  },
  {
   "cell_type": "markdown",
   "id": "87cd9f42-5ec4-48f6-91d6-4d8eb475aca5",
   "metadata": {},
   "source": [
    "## 1. Similitud coseno"
   ]
  },
  {
   "cell_type": "code",
   "execution_count": 5,
   "id": "c909b328-f19c-49bf-b4f5-4ef8f7b40dfb",
   "metadata": {},
   "outputs": [],
   "source": [
    "from scipy.spatial.distance import cosine\n",
    "import numpy as np\n",
    "\n",
    "# Función para calcular la similitud coseno entre dos vectores\n",
    "def cosine_similarity(v1, v2):\n",
    "    return 1 - cosine(v1.flatten(), v2.flatten())"
   ]
  },
  {
   "cell_type": "code",
   "execution_count": 6,
   "id": "40f031f1-c15c-456a-bfe4-9d201f99a599",
   "metadata": {},
   "outputs": [],
   "source": [
    "# Función para comparar método 1 vs método 3\n",
    "def compare_results(results1, results3):\n",
    "    similarities = {}\n",
    "    for emotion in results1.keys():\n",
    "        similarities[emotion] = cosine_similarity(results1[emotion], results3[emotion])\n",
    "    return similarities"
   ]
  },
  {
   "cell_type": "code",
   "execution_count": 7,
   "id": "34c20f89-9cfb-4c4c-a5c7-42dec34312c3",
   "metadata": {},
   "outputs": [
    {
     "name": "stdout",
     "output_type": "stream",
     "text": [
      "{'DI': 0.11721087677114694, 'HA': 0.17827751891230292, 'SU': -0.013326488144749016, 'AN': -0.12284548334796241, 'SA': 0.16511259676313994, 'FE': 0.2575398268295501}\n"
     ]
    }
   ],
   "source": [
    "print(compare_results(method_1_results, method_3_results))"
   ]
  },
  {
   "cell_type": "markdown",
   "id": "a8e1ea15-52ca-4778-812b-9cbcbafb1c56",
   "metadata": {},
   "source": [
    "### Problema: Me da mal la similitud coseno, cómo sé cuál método es correcto/mejor?\n",
    "Generar imágenes con estos vectores no es una opción porque no anda el docker."
   ]
  },
  {
   "cell_type": "code",
   "execution_count": null,
   "id": "a308a57b-12e9-436b-9a0c-478f7a6d1354",
   "metadata": {},
   "outputs": [],
   "source": []
  }
 ],
 "metadata": {
  "kernelspec": {
   "display_name": "Python (stylegan)",
   "language": "python",
   "name": "stylegan"
  },
  "language_info": {
   "codemirror_mode": {
    "name": "ipython",
    "version": 3
   },
   "file_extension": ".py",
   "mimetype": "text/x-python",
   "name": "python",
   "nbconvert_exporter": "python",
   "pygments_lexer": "ipython3",
   "version": "3.7.12"
  }
 },
 "nbformat": 4,
 "nbformat_minor": 5
}
