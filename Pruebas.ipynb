{
 "cells": [
  {
   "cell_type": "markdown",
   "id": "d18b0a61-17a6-41dd-a172-3abd02da8b79",
   "metadata": {},
   "source": [
    "# Pruebas"
   ]
  },
  {
   "cell_type": "markdown",
   "id": "bf118b09-350e-48a9-82c9-c2c97c4941cd",
   "metadata": {},
   "source": [
    "## Definiciones"
   ]
  },
  {
   "cell_type": "code",
   "execution_count": 8,
   "id": "15ff9269-bcf9-48e7-8f0d-86e54ed18959",
   "metadata": {
    "scrolled": true
   },
   "outputs": [],
   "source": [
    "import os\n",
    "import numpy as np\n",
    "import pandas as pd\n",
    "from sklearn.preprocessing import normalize\n",
    "from sklearn.linear_model import LinearRegression\n",
    "from numpy import load, savez\n",
    "\n",
    "def getNPZ(name):\n",
    "    filename = f'./images/processed_images/{name}_01_projected_w.npz'\n",
    "    return load(filename)['w']\n",
    "\n",
    "def normalize_vectors(vectors):\n",
    "    \"\"\"Normaliza una lista de vectores usando norma L2.\"\"\"\n",
    "    original_shape = vectors.shape  # Guardamos la forma original\n",
    "    vectors = vectors.reshape(vectors.shape[0], -1)  # Aplanamos a (N, D)\n",
    "    vectors = normalize(vectors, axis=1)  # Normalizamos en la dimensión correcta\n",
    "    return vectors.reshape(original_shape)  # Restauramos la forma original\n"
   ]
  },
  {
   "cell_type": "markdown",
   "id": "6c812396-07ff-4b40-9eb5-a916dce54712",
   "metadata": {},
   "source": [
    "## Cargar los datos"
   ]
  },
  {
   "cell_type": "code",
   "execution_count": 9,
   "id": "a960ef8f-ba8f-43df-98b4-2bf62f800614",
   "metadata": {},
   "outputs": [],
   "source": [
    "def check_npz(df):\n",
    "    npz_encontrados = []\n",
    "    npz_no_encontrados = []\n",
    "    for i, image in df.iterrows():\n",
    "        name = image['name']\n",
    "        if not os.path.exists(f'/mnt/discoAmpliado/viky/images/processed_images/{name}_01_projected_w.npz'):\n",
    "            npz_no_encontrados.append(name)\n",
    "        else:\n",
    "            npz_encontrados.append(name)\n",
    "    if len(npz_no_encontrados) != 0:\n",
    "        print(\"NO se encontraron todos los npz\")\n",
    "        return npz_no_encontrados\n",
    "    else:\n",
    "        print(\"SI se encontraron todos los npz\")\n",
    "        return npz_no_encontrados"
   ]
  },
  {
   "cell_type": "code",
   "execution_count": 12,
   "id": "f26ce71c-0687-4068-9d9b-424720eb2467",
   "metadata": {},
   "outputs": [
    {
     "name": "stdout",
     "output_type": "stream",
     "text": [
      "Tamaño total del dataframe: (2499, 10)\n",
      "NO se encontraron todos los npz\n"
     ]
    },
    {
     "data": {
      "text/html": [
       "<div>\n",
       "<style scoped>\n",
       "    .dataframe tbody tr th:only-of-type {\n",
       "        vertical-align: middle;\n",
       "    }\n",
       "\n",
       "    .dataframe tbody tr th {\n",
       "        vertical-align: top;\n",
       "    }\n",
       "\n",
       "    .dataframe thead th {\n",
       "        text-align: right;\n",
       "    }\n",
       "</style>\n",
       "<table border=\"1\" class=\"dataframe\">\n",
       "  <thead>\n",
       "    <tr style=\"text-align: right;\">\n",
       "      <th></th>\n",
       "      <th>gender</th>\n",
       "      <th>id</th>\n",
       "      <th>exp</th>\n",
       "      <th>exp_level</th>\n",
       "      <th>race</th>\n",
       "      <th>attribute</th>\n",
       "      <th>ext</th>\n",
       "      <th>name</th>\n",
       "      <th>raw_image_folder</th>\n",
       "      <th>idUnique</th>\n",
       "    </tr>\n",
       "  </thead>\n",
       "  <tbody>\n",
       "    <tr>\n",
       "      <th>0</th>\n",
       "      <td>F</td>\n",
       "      <td>30</td>\n",
       "      <td>FE</td>\n",
       "      <td>2</td>\n",
       "      <td>BL</td>\n",
       "      <td>F2D</td>\n",
       "      <td>bmp</td>\n",
       "      <td>F0030_FE02BL_F2D</td>\n",
       "      <td>/mnt/discoAmpliado/viky/BU_3DFE/F0030</td>\n",
       "      <td>0030F</td>\n",
       "    </tr>\n",
       "    <tr>\n",
       "      <th>1</th>\n",
       "      <td>F</td>\n",
       "      <td>30</td>\n",
       "      <td>AN</td>\n",
       "      <td>2</td>\n",
       "      <td>BL</td>\n",
       "      <td>F2D</td>\n",
       "      <td>bmp</td>\n",
       "      <td>F0030_AN02BL_F2D</td>\n",
       "      <td>/mnt/discoAmpliado/viky/BU_3DFE/F0030</td>\n",
       "      <td>0030F</td>\n",
       "    </tr>\n",
       "    <tr>\n",
       "      <th>2</th>\n",
       "      <td>F</td>\n",
       "      <td>30</td>\n",
       "      <td>FE</td>\n",
       "      <td>1</td>\n",
       "      <td>BL</td>\n",
       "      <td>F2D</td>\n",
       "      <td>bmp</td>\n",
       "      <td>F0030_FE01BL_F2D</td>\n",
       "      <td>/mnt/discoAmpliado/viky/BU_3DFE/F0030</td>\n",
       "      <td>0030F</td>\n",
       "    </tr>\n",
       "    <tr>\n",
       "      <th>3</th>\n",
       "      <td>F</td>\n",
       "      <td>30</td>\n",
       "      <td>SU</td>\n",
       "      <td>3</td>\n",
       "      <td>BL</td>\n",
       "      <td>F2D</td>\n",
       "      <td>bmp</td>\n",
       "      <td>F0030_SU03BL_F2D</td>\n",
       "      <td>/mnt/discoAmpliado/viky/BU_3DFE/F0030</td>\n",
       "      <td>0030F</td>\n",
       "    </tr>\n",
       "    <tr>\n",
       "      <th>4</th>\n",
       "      <td>F</td>\n",
       "      <td>30</td>\n",
       "      <td>DI</td>\n",
       "      <td>1</td>\n",
       "      <td>BL</td>\n",
       "      <td>F2D</td>\n",
       "      <td>bmp</td>\n",
       "      <td>F0030_DI01BL_F2D</td>\n",
       "      <td>/mnt/discoAmpliado/viky/BU_3DFE/F0030</td>\n",
       "      <td>0030F</td>\n",
       "    </tr>\n",
       "    <tr>\n",
       "      <th>...</th>\n",
       "      <td>...</td>\n",
       "      <td>...</td>\n",
       "      <td>...</td>\n",
       "      <td>...</td>\n",
       "      <td>...</td>\n",
       "      <td>...</td>\n",
       "      <td>...</td>\n",
       "      <td>...</td>\n",
       "      <td>...</td>\n",
       "      <td>...</td>\n",
       "    </tr>\n",
       "    <tr>\n",
       "      <th>2494</th>\n",
       "      <td>M</td>\n",
       "      <td>26</td>\n",
       "      <td>SU</td>\n",
       "      <td>1</td>\n",
       "      <td>AE</td>\n",
       "      <td>F2D</td>\n",
       "      <td>bmp</td>\n",
       "      <td>M0026_SU01AE_F2D</td>\n",
       "      <td>/mnt/discoAmpliado/viky/BU_3DFE/M0026</td>\n",
       "      <td>0026M</td>\n",
       "    </tr>\n",
       "    <tr>\n",
       "      <th>2495</th>\n",
       "      <td>M</td>\n",
       "      <td>26</td>\n",
       "      <td>SA</td>\n",
       "      <td>4</td>\n",
       "      <td>AE</td>\n",
       "      <td>F2D</td>\n",
       "      <td>bmp</td>\n",
       "      <td>M0026_SA04AE_F2D</td>\n",
       "      <td>/mnt/discoAmpliado/viky/BU_3DFE/M0026</td>\n",
       "      <td>0026M</td>\n",
       "    </tr>\n",
       "    <tr>\n",
       "      <th>2496</th>\n",
       "      <td>M</td>\n",
       "      <td>26</td>\n",
       "      <td>HA</td>\n",
       "      <td>1</td>\n",
       "      <td>AE</td>\n",
       "      <td>F2D</td>\n",
       "      <td>bmp</td>\n",
       "      <td>M0026_HA01AE_F2D</td>\n",
       "      <td>/mnt/discoAmpliado/viky/BU_3DFE/M0026</td>\n",
       "      <td>0026M</td>\n",
       "    </tr>\n",
       "    <tr>\n",
       "      <th>2497</th>\n",
       "      <td>M</td>\n",
       "      <td>26</td>\n",
       "      <td>SA</td>\n",
       "      <td>1</td>\n",
       "      <td>AE</td>\n",
       "      <td>F2D</td>\n",
       "      <td>bmp</td>\n",
       "      <td>M0026_SA01AE_F2D</td>\n",
       "      <td>/mnt/discoAmpliado/viky/BU_3DFE/M0026</td>\n",
       "      <td>0026M</td>\n",
       "    </tr>\n",
       "    <tr>\n",
       "      <th>2498</th>\n",
       "      <td>M</td>\n",
       "      <td>26</td>\n",
       "      <td>FE</td>\n",
       "      <td>1</td>\n",
       "      <td>AE</td>\n",
       "      <td>F2D</td>\n",
       "      <td>bmp</td>\n",
       "      <td>M0026_FE01AE_F2D</td>\n",
       "      <td>/mnt/discoAmpliado/viky/BU_3DFE/M0026</td>\n",
       "      <td>0026M</td>\n",
       "    </tr>\n",
       "  </tbody>\n",
       "</table>\n",
       "<p>2499 rows × 10 columns</p>\n",
       "</div>"
      ],
      "text/plain": [
       "     gender  id exp  exp_level race attribute  ext              name  \\\n",
       "0         F  30  FE          2   BL       F2D  bmp  F0030_FE02BL_F2D   \n",
       "1         F  30  AN          2   BL       F2D  bmp  F0030_AN02BL_F2D   \n",
       "2         F  30  FE          1   BL       F2D  bmp  F0030_FE01BL_F2D   \n",
       "3         F  30  SU          3   BL       F2D  bmp  F0030_SU03BL_F2D   \n",
       "4         F  30  DI          1   BL       F2D  bmp  F0030_DI01BL_F2D   \n",
       "...     ...  ..  ..        ...  ...       ...  ...               ...   \n",
       "2494      M  26  SU          1   AE       F2D  bmp  M0026_SU01AE_F2D   \n",
       "2495      M  26  SA          4   AE       F2D  bmp  M0026_SA04AE_F2D   \n",
       "2496      M  26  HA          1   AE       F2D  bmp  M0026_HA01AE_F2D   \n",
       "2497      M  26  SA          1   AE       F2D  bmp  M0026_SA01AE_F2D   \n",
       "2498      M  26  FE          1   AE       F2D  bmp  M0026_FE01AE_F2D   \n",
       "\n",
       "                           raw_image_folder idUnique  \n",
       "0     /mnt/discoAmpliado/viky/BU_3DFE/F0030    0030F  \n",
       "1     /mnt/discoAmpliado/viky/BU_3DFE/F0030    0030F  \n",
       "2     /mnt/discoAmpliado/viky/BU_3DFE/F0030    0030F  \n",
       "3     /mnt/discoAmpliado/viky/BU_3DFE/F0030    0030F  \n",
       "4     /mnt/discoAmpliado/viky/BU_3DFE/F0030    0030F  \n",
       "...                                     ...      ...  \n",
       "2494  /mnt/discoAmpliado/viky/BU_3DFE/M0026    0026M  \n",
       "2495  /mnt/discoAmpliado/viky/BU_3DFE/M0026    0026M  \n",
       "2496  /mnt/discoAmpliado/viky/BU_3DFE/M0026    0026M  \n",
       "2497  /mnt/discoAmpliado/viky/BU_3DFE/M0026    0026M  \n",
       "2498  /mnt/discoAmpliado/viky/BU_3DFE/M0026    0026M  \n",
       "\n",
       "[2499 rows x 10 columns]"
      ]
     },
     "execution_count": 12,
     "metadata": {},
     "output_type": "execute_result"
    }
   ],
   "source": [
    "# Cargar datos\n",
    "df = pd.read_csv('./dataframe.csv')\n",
    "\n",
    "print(f'Tamaño total del dataframe: {df.shape}')\n",
    "npz_no_encontrados = check_npz(df)\n",
    "#df = df[~df['name'].isin(npz_no_encontrados)] ######## Saco esto por ahora, poque el método que chequea los npz depende de una dirección hardcodeada y no va a funcionar en mi compu personal\n",
    "df"
   ]
  },
  {
   "cell_type": "markdown",
   "id": "90f156fe-0d05-4f49-8af9-98f206c6df7f",
   "metadata": {},
   "source": [
    "## Primera exploración"
   ]
  },
  {
   "cell_type": "code",
   "execution_count": 16,
   "id": "16e13ca1-698b-44d6-ac20-641d8f9d3663",
   "metadata": {},
   "outputs": [],
   "source": [
    "def restar_vectores_neutros_y_normalizar(df):\n",
    "    \"\"\"Resta el vector neutro de cada persona a sus otras imágenes\"\"\"\n",
    "    adjusted_vectors = []\n",
    "    \n",
    "    for person_id, group in df.groupby('idUnique'):\n",
    "        neutral_vector = None\n",
    "        \n",
    "        # Buscar la imagen neutra\n",
    "        for _, row in group.iterrows():\n",
    "            if row['exp'] == 'NE':\n",
    "                neutral_vector = getNPZ(row['name'])\n",
    "                break\n",
    "        \n",
    "        # Si no hay imagen neutra, dejamos los vectores como están\n",
    "        if neutral_vector is None:\n",
    "            print(f\"Advertencia: No se encontró imagen neutra para {person_id}\")\n",
    "            adjusted_vectors.extend([getNPZ(row['name']) for _, row in group.iterrows()])\n",
    "            continue\n",
    "        \n",
    "        # Restar el vector neutro de las otras imágenes\n",
    "        for _, row in group.iterrows():\n",
    "            vector = getNPZ(row['name'])\n",
    "            adjusted_vectors.append(normalize_vectors(vector - neutral_vector)) #Switch para normalizar o no\n",
    "            ##adjusted_vectors.append(vector - neutral_vector)\n",
    "    \n",
    "    df['adjusted_vector'] = adjusted_vectors\n",
    "    return df\n",
    "\n",
    "df = restar_vectores_neutros_y_normalizar(df)"
   ]
  },
  {
   "cell_type": "code",
   "execution_count": 17,
   "id": "b80bcd0e-dc84-40b7-a4d4-bb8490b70650",
   "metadata": {},
   "outputs": [
    {
     "data": {
      "image/png": "[encoded data removed]",
      "text/plain": [
       "<Figure size 864x576 with 6 Axes>"
      ]
     },
     "metadata": {
      "needs_background": "light"
     },
     "output_type": "display_data"
    },
    {
     "data": {
      "image/png": "[encoded data removed]",
      "text/plain": [
       "<Figure size 720x432 with 1 Axes>"
      ]
     },
     "metadata": {
      "needs_background": "light"
     },
     "output_type": "display_data"
    },
    {
     "data": {
      "text/plain": [
       "{'DI': array([0.3783348 , 0.41335177, 0.4511793 , ..., 0.47819015, 0.6062414 ,\n",
       "        0.4208054 ], dtype=float32),\n",
       " 'HA': array([0.69690585, 0.47282338, 0.650194  , ..., 0.47110546, 0.538054  ,\n",
       "        0.5066923 ], dtype=float32),\n",
       " 'SU': array([0.57271737, 0.68028885, 0.5689252 , ..., 0.44580823, 0.4308027 ,\n",
       "        0.52333057], dtype=float32),\n",
       " 'AN': array([0.5750616 , 0.47741324, 0.5097215 , ..., 0.44567645, 0.4758227 ,\n",
       "        0.5228431 ], dtype=float32),\n",
       " 'SA': array([0.56662345, 0.5838913 , 0.52346087, ..., 0.536475  , 0.50904363,\n",
       "        0.6292007 ], dtype=float32),\n",
       " 'FE': array([0.49838704, 0.48163673, 0.5128045 , ..., 0.6230311 , 0.5164858 ,\n",
       "        0.5590526 ], dtype=float32)}"
      ]
     },
     "execution_count": 17,
     "metadata": {},
     "output_type": "execute_result"
    }
   ],
   "source": [
    "import matplotlib.pyplot as plt\n",
    "from sklearn.metrics.pairwise import cosine_similarity\n",
    "\n",
    "\n",
    "def comparacion_distancias_coseno(df):\n",
    "    \"\"\"Calcula distancias coseno entre todos los vectores por emoción y los plottea\"\"\"\n",
    "    df = restar_vectores_neutros_y_normalizar(df)\n",
    "    results = {}  # Diccionario para guardar los resultados\n",
    "    emotions = ['DI', 'HA', 'SU', 'AN', 'SA', 'FE']\n",
    "    \n",
    "    all_distances = []  # Para almacenar todas las distancias y comparar entre emociones\n",
    "    \n",
    "    plt.figure(figsize=(12, 8))\n",
    "    \n",
    "    for i, emotion in enumerate(emotions):\n",
    "        subset = df[df['exp'] == emotion]\n",
    "        ##vectors = np.stack(subset['adjusted_vector'].values)\n",
    "        vectors = np.array([getNPZ(name) for name in subset['name']])\n",
    "        \n",
    "        # Calcular la matriz de similitud coseno\n",
    "        similarity_matrix = cosine_similarity(vectors.reshape(len(vectors), -1))\n",
    "        \n",
    "        # Extraer solo los valores superiores de la matriz (sin la diagonal)\n",
    "        triu_indices = np.triu_indices_from(similarity_matrix, k=1)\n",
    "        similarities = similarity_matrix[triu_indices]\n",
    "        results[emotion] = similarities  # Guardamos las distancias\n",
    "        all_distances.append(similarities)\n",
    "        \n",
    "        # Graficar histograma para esta emoción\n",
    "        plt.subplot(2, 3, i + 1)\n",
    "        plt.hist(similarities, bins=30, alpha=0.7, color='b')\n",
    "        plt.title(f'Similitud coseno para {emotion}')\n",
    "        plt.xlabel('Similitud coseno')\n",
    "        plt.ylabel('Frecuencia')\n",
    "    \n",
    "    plt.tight_layout()\n",
    "    plt.show()\n",
    "    \n",
    "    # Comparación entre emociones\n",
    "    plt.figure(figsize=(10, 6))\n",
    "    for similarities, emotion in zip(all_distances, emotions):\n",
    "        plt.hist(similarities, bins=30, alpha=0.5, label=emotion)\n",
    "    \n",
    "    plt.xlabel('Similitud coseno')\n",
    "    plt.ylabel('Frecuencia')\n",
    "    plt.title('Comparación de similitudes entre emociones')\n",
    "    plt.legend()\n",
    "    plt.show()\n",
    "    \n",
    "    return results\n",
    "\n",
    "\n",
    "comparacion_distancias_coseno(df)"
   ]
  },
  {
   "cell_type": "code",
   "execution_count": 18,
   "id": "3eb8d411-45ec-49d2-8091-d6a1100ffc59",
   "metadata": {},
   "outputs": [
    {
     "data": {
      "image/png": "[encoded data removed]",
      "text/plain": [
       "<Figure size 576x432 with 2 Axes>"
      ]
     },
     "metadata": {
      "needs_background": "light"
     },
     "output_type": "display_data"
    },
    {
     "data": {
      "image/png": "[encoded data removed]",
      "text/plain": [
       "<Figure size 720x360 with 1 Axes>"
      ]
     },
     "metadata": {
      "needs_background": "light"
     },
     "output_type": "display_data"
    },
    {
     "data": {
      "text/plain": [
       "array([[1.0000004 , 0.9715958 , 0.9469331 , 0.9820312 , 0.9629421 ,\n",
       "        0.9745017 ],\n",
       "       [0.9715958 , 1.0000001 , 0.9298665 , 0.9632131 , 0.95419216,\n",
       "        0.9804118 ],\n",
       "       [0.9469331 , 0.9298665 , 0.9999991 , 0.9332886 , 0.9208815 ,\n",
       "        0.93962437],\n",
       "       [0.9820312 , 0.9632131 , 0.9332886 , 1.0000012 , 0.985416  ,\n",
       "        0.9765293 ],\n",
       "       [0.9629421 , 0.95419216, 0.9208815 , 0.985416  , 1.0000008 ,\n",
       "        0.9789884 ],\n",
       "       [0.9745017 , 0.9804118 , 0.93962437, 0.9765293 , 0.9789884 ,\n",
       "        0.9999993 ]], dtype=float32)"
      ]
     },
     "execution_count": 18,
     "metadata": {},
     "output_type": "execute_result"
    }
   ],
   "source": [
    "import numpy as np\n",
    "import seaborn as sns\n",
    "import matplotlib.pyplot as plt\n",
    "from sklearn.metrics.pairwise import cosine_similarity\n",
    "from scipy.cluster.hierarchy import linkage, dendrogram\n",
    "\n",
    "def comparacion_entre_emociones(df):\n",
    "    \"\"\"Calcula la similitud coseno entre emociones diferentes y la visualiza\"\"\"\n",
    "    \n",
    "    df = restar_vectores_neutros_y_normalizar(df)\n",
    "    emotions = ['DI', 'HA', 'SU', 'AN', 'SA', 'FE']\n",
    "    \n",
    "    # Almacenar un vector promedio por emoción\n",
    "    mean_vectors = {}\n",
    "    \n",
    "    for emotion in emotions:\n",
    "        subset = df[df['exp'] == emotion]\n",
    "        vectors = np.array([getNPZ(name) for name in subset['name']])\n",
    "        mean_vectors[emotion] = np.mean(vectors, axis=0)  # Promediamos los vectores\n",
    "    \n",
    "    # Crear matriz de similitud coseno entre emociones\n",
    "    emotion_vectors = np.array([mean_vectors[emotion].flatten() for emotion in emotions])\n",
    "    similarity_matrix = cosine_similarity(emotion_vectors)\n",
    "    \n",
    "    # Visualizar la matriz de similitud coseno como un heatmap\n",
    "    plt.figure(figsize=(8, 6))\n",
    "    sns.heatmap(similarity_matrix, annot=True, xticklabels=emotions, yticklabels=emotions, cmap=\"coolwarm\", vmin=-1, vmax=1)\n",
    "    plt.title(\"Similitud coseno entre emociones\")\n",
    "    plt.show()\n",
    "    \n",
    "    # Clustering jerárquico para ver relaciones entre emociones\n",
    "    linkage_matrix = linkage(emotion_vectors, method='ward')  # 'ward' usa distancia euclidiana\n",
    "    plt.figure(figsize=(10, 5))\n",
    "    dendrogram(linkage_matrix, labels=emotions, leaf_rotation=45, leaf_font_size=12)\n",
    "    plt.title(\"Dendrograma de Clustering entre emociones\")\n",
    "    plt.xlabel(\"Emociones\")\n",
    "    plt.ylabel(\"Distancia\")\n",
    "    plt.show()\n",
    "    \n",
    "    return similarity_matrix\n",
    "\n",
    "comparacion_entre_emociones(df)"
   ]
  },
  {
   "cell_type": "code",
   "execution_count": 19,
   "id": "ddb9d321-b4e9-4ead-b23e-ad4849721c87",
   "metadata": {},
   "outputs": [
    {
     "data": {
      "image/png": "[encoded data removed]",
      "text/plain": [
       "<Figure size 1008x1008 with 15 Axes>"
      ]
     },
     "metadata": {
      "needs_background": "light"
     },
     "output_type": "display_data"
    }
   ],
   "source": [
    "import numpy as np\n",
    "import itertools\n",
    "import seaborn as sns\n",
    "import matplotlib.pyplot as plt\n",
    "from sklearn.metrics.pairwise import cosine_similarity\n",
    "\n",
    "def comparacion_por_pares(df):\n",
    "    \"\"\"Calcula similitud coseno entre pares de emociones y grafica histogramas\"\"\"\n",
    "    \n",
    "    df = restar_vectores_neutros_y_normalizar(df)\n",
    "    emotions = ['DI', 'HA', 'SU', 'AN', 'SA', 'FE']\n",
    "    \n",
    "    plt.figure(figsize=(14, 14))\n",
    "    \n",
    "    # Generar todas las combinaciones posibles de pares de emociones\n",
    "    emotion_pairs = list(itertools.combinations(emotions, 2))\n",
    "    \n",
    "    for i, (emotion1, emotion2) in enumerate(emotion_pairs):\n",
    "        subset1 = df[df['exp'] == emotion1]\n",
    "        subset2 = df[df['exp'] == emotion2]\n",
    "\n",
    "        vectors1 = np.array([getNPZ(name) for name in subset1['name']])\n",
    "        vectors2 = np.array([getNPZ(name) for name in subset2['name']])\n",
    "        vectors1 = vectors1.reshape(vectors1.shape[0], -1)\n",
    "        vectors2 = vectors2.reshape(vectors2.shape[0], -1)\n",
    "        \n",
    "        # Calcular similitudes dentro de cada emoción (HA-HA, SU-SU)\n",
    "        sim_matrix1 = cosine_similarity(vectors1)\n",
    "        sim_matrix2 = cosine_similarity(vectors2)\n",
    "\n",
    "        # Extraer solo valores únicos (sin la diagonal)\n",
    "        triu_idx1 = np.triu_indices_from(sim_matrix1, k=1)\n",
    "        triu_idx2 = np.triu_indices_from(sim_matrix2, k=1)\n",
    "        similarities1 = sim_matrix1[triu_idx1]\n",
    "        similarities2 = sim_matrix2[triu_idx2]\n",
    "        \n",
    "        # Calcular similitudes entre emociones distintas (HA-SU)\n",
    "        cross_similarities = cosine_similarity(vectors1, vectors2).flatten()\n",
    "\n",
    "        # Graficar histograma para este par de emociones\n",
    "        plt.subplot(5, 3, i + 1)\n",
    "        plt.hist(similarities1, bins=30, alpha=0.5, label=f'{emotion1}-{emotion1}', color='b')\n",
    "        plt.hist(similarities2, bins=30, alpha=0.5, label=f'{emotion2}-{emotion2}', color='r')\n",
    "        plt.hist(cross_similarities, bins=30, alpha=0.5, label=f'{emotion1}-{emotion2}', color='g')\n",
    "        \n",
    "        plt.title(f'{emotion1} vs {emotion2}')\n",
    "        plt.xlabel('Similitud coseno')\n",
    "        plt.ylabel('Frecuencia')\n",
    "        plt.legend()\n",
    "\n",
    "    plt.tight_layout()\n",
    "    plt.show()\n",
    "    \n",
    "comparacion_por_pares(df)"
   ]
  },
  {
   "cell_type": "markdown",
   "id": "11d57eb3-1f8f-4890-8362-e6ea05b9a4a1",
   "metadata": {},
   "source": [
    "## Método 1: Promedio de promedios"
   ]
  },
  {
   "cell_type": "code",
   "execution_count": 20,
   "id": "f59647fa-6bbd-4478-9894-8ae66f3f2452",
   "metadata": {
    "scrolled": true
   },
   "outputs": [
    {
     "data": {
      "text/plain": [
       "{'DI': array([[[-6.7578680e-05, -1.0205286e-03,  2.2781960e-04, ...,\n",
       "          -1.5070353e-04,  1.0791451e-03, -5.3269137e-04],\n",
       "         [-6.7578680e-05, -1.0205286e-03,  2.2781960e-04, ...,\n",
       "          -1.5070353e-04,  1.0791451e-03, -5.3269137e-04],\n",
       "         [-6.7578680e-05, -1.0205286e-03,  2.2781960e-04, ...,\n",
       "          -1.5070353e-04,  1.0791451e-03, -5.3269137e-04],\n",
       "         ...,\n",
       "         [-6.7578680e-05, -1.0205286e-03,  2.2781960e-04, ...,\n",
       "          -1.5070353e-04,  1.0791451e-03, -5.3269137e-04],\n",
       "         [-6.7578680e-05, -1.0205286e-03,  2.2781960e-04, ...,\n",
       "          -1.5070353e-04,  1.0791451e-03, -5.3269137e-04],\n",
       "         [-6.7578680e-05, -1.0205286e-03,  2.2781960e-04, ...,\n",
       "          -1.5070353e-04,  1.0791451e-03, -5.3269137e-04]]], dtype=float32),\n",
       " 'HA': array([[[ 0.00010745, -0.0003995 ,  0.00028825, ..., -0.0001874 ,\n",
       "           0.00192782, -0.00155469],\n",
       "         [ 0.00010745, -0.0003995 ,  0.00028825, ..., -0.0001874 ,\n",
       "           0.00192782, -0.00155469],\n",
       "         [ 0.00010745, -0.0003995 ,  0.00028825, ..., -0.0001874 ,\n",
       "           0.00192782, -0.00155469],\n",
       "         ...,\n",
       "         [ 0.00010745, -0.0003995 ,  0.00028825, ..., -0.0001874 ,\n",
       "           0.00192782, -0.00155469],\n",
       "         [ 0.00010745, -0.0003995 ,  0.00028825, ..., -0.0001874 ,\n",
       "           0.00192782, -0.00155469],\n",
       "         [ 0.00010745, -0.0003995 ,  0.00028825, ..., -0.0001874 ,\n",
       "           0.00192782, -0.00155469]]], dtype=float32),\n",
       " 'SU': array([[[ 3.4709356e-04, -1.0491331e-03,  1.5611475e-04, ...,\n",
       "           6.2512331e-06,  1.1657546e-03, -1.5348890e-03],\n",
       "         [ 3.4709356e-04, -1.0491331e-03,  1.5611475e-04, ...,\n",
       "           6.2512331e-06,  1.1657546e-03, -1.5348890e-03],\n",
       "         [ 3.4709356e-04, -1.0491331e-03,  1.5611475e-04, ...,\n",
       "           6.2512331e-06,  1.1657546e-03, -1.5348890e-03],\n",
       "         ...,\n",
       "         [ 3.4709356e-04, -1.0491331e-03,  1.5611475e-04, ...,\n",
       "           6.2512331e-06,  1.1657546e-03, -1.5348890e-03],\n",
       "         [ 3.4709356e-04, -1.0491331e-03,  1.5611475e-04, ...,\n",
       "           6.2512331e-06,  1.1657546e-03, -1.5348890e-03],\n",
       "         [ 3.4709356e-04, -1.0491331e-03,  1.5611475e-04, ...,\n",
       "           6.2512331e-06,  1.1657546e-03, -1.5348890e-03]]], dtype=float32),\n",
       " 'AN': array([[[ 6.7995774e-05, -8.7346812e-04,  2.3567390e-04, ...,\n",
       "           3.2508865e-04,  1.9730930e-03, -7.2129891e-04],\n",
       "         [ 6.7995774e-05, -8.7346812e-04,  2.3567390e-04, ...,\n",
       "           3.2508865e-04,  1.9730930e-03, -7.2129891e-04],\n",
       "         [ 6.7995774e-05, -8.7346812e-04,  2.3567390e-04, ...,\n",
       "           3.2508865e-04,  1.9730930e-03, -7.2129891e-04],\n",
       "         ...,\n",
       "         [ 6.7995774e-05, -8.7346812e-04,  2.3567390e-04, ...,\n",
       "           3.2508865e-04,  1.9730930e-03, -7.2129891e-04],\n",
       "         [ 6.7995774e-05, -8.7346812e-04,  2.3567390e-04, ...,\n",
       "           3.2508865e-04,  1.9730930e-03, -7.2129891e-04],\n",
       "         [ 6.7995774e-05, -8.7346812e-04,  2.3567390e-04, ...,\n",
       "           3.2508865e-04,  1.9730930e-03, -7.2129891e-04]]], dtype=float32),\n",
       " 'SA': array([[[-0.00018209, -0.00051728, -0.00043085, ..., -0.00010436,\n",
       "           0.00152692, -0.00097975],\n",
       "         [-0.00018209, -0.00051728, -0.00043085, ..., -0.00010436,\n",
       "           0.00152692, -0.00097975],\n",
       "         [-0.00018209, -0.00051728, -0.00043085, ..., -0.00010436,\n",
       "           0.00152692, -0.00097975],\n",
       "         ...,\n",
       "         [-0.00018209, -0.00051728, -0.00043085, ..., -0.00010436,\n",
       "           0.00152692, -0.00097975],\n",
       "         [-0.00018209, -0.00051728, -0.00043085, ..., -0.00010436,\n",
       "           0.00152692, -0.00097975],\n",
       "         [-0.00018209, -0.00051728, -0.00043085, ..., -0.00010436,\n",
       "           0.00152692, -0.00097975]]], dtype=float32),\n",
       " 'FE': array([[[ 5.8519159e-04,  2.1593281e-05,  5.1577622e-04, ...,\n",
       "          -1.9442977e-04,  1.4307089e-03, -8.3061121e-04],\n",
       "         [ 5.8519159e-04,  2.1593281e-05,  5.1577622e-04, ...,\n",
       "          -1.9442977e-04,  1.4307089e-03, -8.3061121e-04],\n",
       "         [ 5.8519159e-04,  2.1593281e-05,  5.1577622e-04, ...,\n",
       "          -1.9442977e-04,  1.4307089e-03, -8.3061121e-04],\n",
       "         ...,\n",
       "         [ 5.8519159e-04,  2.1593281e-05,  5.1577622e-04, ...,\n",
       "          -1.9442977e-04,  1.4307089e-03, -8.3061121e-04],\n",
       "         [ 5.8519159e-04,  2.1593281e-05,  5.1577622e-04, ...,\n",
       "          -1.9442977e-04,  1.4307089e-03, -8.3061121e-04],\n",
       "         [ 5.8519159e-04,  2.1593281e-05,  5.1577622e-04, ...,\n",
       "          -1.9442977e-04,  1.4307089e-03, -8.3061121e-04]]], dtype=float32)}"
      ]
     },
     "execution_count": 20,
     "metadata": {},
     "output_type": "execute_result"
    }
   ],
   "source": [
    "def metodo_1(df):\n",
    "    \"\"\"Método 1: Promedio de promedios, por emoción.\"\"\"\n",
    "    results = {}\n",
    "    emotions = ['DI', 'HA', 'SU', 'AN', 'SA', 'FE']\n",
    "    \n",
    "    for emotion in emotions:\n",
    "        subset_emocion = df[df['exp'] == emotion]\n",
    "        promedios_emocion = []\n",
    "        for idUnique in subset_emocion['idUnique'].unique():\n",
    "            subset_emocion_persona = subset_emocion[subset_emocion['idUnique'] == idUnique]\n",
    "            promedio_emocion_persona = np.mean(subset_emocion_persona['adjusted_vector'], axis=0)\n",
    "            promedios_emocion.append(promedio_emocion_persona)\n",
    "        promedio_de_promedios_emocion = np.mean(promedios_emocion, axis = 0)\n",
    "        results[emotion] = promedio_de_promedios_emocion\n",
    "    return results\n",
    "\n",
    "metodo_1(df)"
   ]
  },
  {
   "cell_type": "markdown",
   "id": "468b1fca-85cd-49bd-9719-143f856e8a51",
   "metadata": {},
   "source": [
    "## Método 2: Promedio y luego regresión lineal"
   ]
  },
  {
   "cell_type": "code",
   "execution_count": 21,
   "id": "3bef8f03-13a9-412a-9b4e-2e68e7716796",
   "metadata": {
    "scrolled": true
   },
   "outputs": [
    {
     "data": {
      "text/plain": [
       "{'DI': array([[[ 2.39322884e-05, -2.71931986e-05,  4.56080878e-05, ...,\n",
       "          -1.25906569e-05, -3.00744915e-05, -2.05070310e-05],\n",
       "         [ 2.39322884e-05, -2.71931986e-05,  4.56080878e-05, ...,\n",
       "          -1.25906569e-05, -3.00744915e-05, -2.05070310e-05],\n",
       "         [ 2.39322884e-05, -2.71931986e-05,  4.56080878e-05, ...,\n",
       "          -1.25906569e-05, -3.00744915e-05, -2.05070310e-05],\n",
       "         ...,\n",
       "         [ 2.39322884e-05, -2.71931986e-05,  4.56080878e-05, ...,\n",
       "          -1.25906569e-05, -3.00744915e-05, -2.05070310e-05],\n",
       "         [ 2.39322884e-05, -2.71931986e-05,  4.56080878e-05, ...,\n",
       "          -1.25906569e-05, -3.00744915e-05, -2.05070310e-05],\n",
       "         [ 2.39322884e-05, -2.71931986e-05,  4.56080878e-05, ...,\n",
       "          -1.25906569e-05, -3.00744915e-05, -2.05070310e-05]]]),\n",
       " 'HA': array([[[ 3.78774315e-05, -2.96356600e-06,  8.19718820e-05, ...,\n",
       "          -2.98469654e-05, -4.24561047e-06, -4.73535594e-06],\n",
       "         [ 3.78774315e-05, -2.96356600e-06,  8.19718820e-05, ...,\n",
       "          -2.98469654e-05, -4.24561047e-06, -4.73535594e-06],\n",
       "         [ 3.78774315e-05, -2.96356600e-06,  8.19718820e-05, ...,\n",
       "          -2.98469654e-05, -4.24561047e-06, -4.73535594e-06],\n",
       "         ...,\n",
       "         [ 3.78774315e-05, -2.96356600e-06,  8.19718820e-05, ...,\n",
       "          -2.98469654e-05, -4.24561047e-06, -4.73535594e-06],\n",
       "         [ 3.78774315e-05, -2.96356600e-06,  8.19718820e-05, ...,\n",
       "          -2.98469654e-05, -4.24561047e-06, -4.73535594e-06],\n",
       "         [ 3.78774315e-05, -2.96356600e-06,  8.19718820e-05, ...,\n",
       "          -2.98469654e-05, -4.24561047e-06, -4.73535594e-06]]]),\n",
       " 'SU': array([[[ 4.21072865e-05, -3.02202920e-05,  6.84891995e-05, ...,\n",
       "          -2.38130322e-05, -4.50056150e-06, -4.05335031e-05],\n",
       "         [ 4.21072865e-05, -3.02202920e-05,  6.84891995e-05, ...,\n",
       "          -2.38130322e-05, -4.50056150e-06, -4.05335031e-05],\n",
       "         [ 4.21072865e-05, -3.02202920e-05,  6.84891995e-05, ...,\n",
       "          -2.38130322e-05, -4.50056150e-06, -4.05335031e-05],\n",
       "         ...,\n",
       "         [ 4.21072865e-05, -3.02202920e-05,  6.84891995e-05, ...,\n",
       "          -2.38130322e-05, -4.50056150e-06, -4.05335031e-05],\n",
       "         [ 4.21072865e-05, -3.02202920e-05,  6.84891995e-05, ...,\n",
       "          -2.38130322e-05, -4.50056150e-06, -4.05335031e-05],\n",
       "         [ 4.21072865e-05, -3.02202920e-05,  6.84891995e-05, ...,\n",
       "          -2.38130322e-05, -4.50056150e-06, -4.05335031e-05]]]),\n",
       " 'AN': array([[[ 4.51095079e-05, -2.36155647e-05,  5.14104854e-05, ...,\n",
       "          -2.51921133e-05, -3.64270280e-05, -1.05343698e-05],\n",
       "         [ 4.51095079e-05, -2.36155647e-05,  5.14104854e-05, ...,\n",
       "          -2.51921133e-05, -3.64270280e-05, -1.05343698e-05],\n",
       "         [ 4.51095079e-05, -2.36155647e-05,  5.14104854e-05, ...,\n",
       "          -2.51921133e-05, -3.64270280e-05, -1.05343698e-05],\n",
       "         ...,\n",
       "         [ 4.51095079e-05, -2.36155647e-05,  5.14104854e-05, ...,\n",
       "          -2.51921133e-05, -3.64270280e-05, -1.05343698e-05],\n",
       "         [ 4.51095079e-05, -2.36155647e-05,  5.14104854e-05, ...,\n",
       "          -2.51921133e-05, -3.64270280e-05, -1.05343698e-05],\n",
       "         [ 4.51095079e-05, -2.36155647e-05,  5.14104854e-05, ...,\n",
       "          -2.51921133e-05, -3.64270280e-05, -1.05343698e-05]]]),\n",
       " 'SA': array([[[ 4.82092349e-05, -5.25894166e-06,  4.62573074e-05, ...,\n",
       "          -1.68392563e-05, -1.23307586e-05,  2.05367161e-06],\n",
       "         [ 4.82092349e-05, -5.25894166e-06,  4.62573074e-05, ...,\n",
       "          -1.68392563e-05, -1.23307586e-05,  2.05367161e-06],\n",
       "         [ 4.82092349e-05, -5.25894166e-06,  4.62573074e-05, ...,\n",
       "          -1.68392563e-05, -1.23307586e-05,  2.05367161e-06],\n",
       "         ...,\n",
       "         [ 4.82092349e-05, -5.25894166e-06,  4.62573074e-05, ...,\n",
       "          -1.68392563e-05, -1.23307586e-05,  2.05367161e-06],\n",
       "         [ 4.82092349e-05, -5.25894166e-06,  4.62573074e-05, ...,\n",
       "          -1.68392563e-05, -1.23307586e-05,  2.05367161e-06],\n",
       "         [ 4.82092349e-05, -5.25894166e-06,  4.62573074e-05, ...,\n",
       "          -1.68392563e-05, -1.23307586e-05,  2.05367161e-06]]]),\n",
       " 'FE': array([[[ 3.47735865e-05, -8.88945082e-06,  2.92263078e-05, ...,\n",
       "          -2.17442453e-05,  6.95225784e-06, -5.61068976e-07],\n",
       "         [ 3.47735865e-05, -8.88945082e-06,  2.92263078e-05, ...,\n",
       "          -2.17442453e-05,  6.95225784e-06, -5.61068976e-07],\n",
       "         [ 3.47735865e-05, -8.88945082e-06,  2.92263078e-05, ...,\n",
       "          -2.17442453e-05,  6.95225784e-06, -5.61068976e-07],\n",
       "         ...,\n",
       "         [ 3.47735865e-05, -8.88945082e-06,  2.92263078e-05, ...,\n",
       "          -2.17442453e-05,  6.95225784e-06, -5.61068976e-07],\n",
       "         [ 3.47735865e-05, -8.88945082e-06,  2.92263078e-05, ...,\n",
       "          -2.17442453e-05,  6.95225784e-06, -5.61068976e-07],\n",
       "         [ 3.47735865e-05, -8.88945082e-06,  2.92263078e-05, ...,\n",
       "          -2.17442453e-05,  6.95225784e-06, -5.61068976e-07]]])}"
      ]
     },
     "execution_count": 21,
     "metadata": {},
     "output_type": "execute_result"
    }
   ],
   "source": [
    "def metodo_2(df):\n",
    "    \"\"\"Método 2: Promedio y luego regresión lineal, por emoción.\"\"\"\n",
    "    results = {}\n",
    "    emotions = ['DI', 'HA', 'SU', 'AN', 'SA', 'FE']\n",
    "    \n",
    "    for emotion in emotions:\n",
    "        subset_emocion = df[df['exp'] == emotion]\n",
    "        promedios_por_persona = []\n",
    "        for idUnique in subset_emocion['idUnique'].unique():\n",
    "            subset_emocion_persona = subset_emocion[subset_emocion['idUnique'] == idUnique]\n",
    "            promedios_por_persona.append(np.mean(subset_emocion_persona['adjusted_vector'], axis=0))\n",
    "        if (len(promedios_por_persona) != 100):\n",
    "            print(f'[ADVERTENCIA] El tamaño del vector de promedios por persona debería ser 100 y es {len(promedios_por_persona)}.')\n",
    "\n",
    "        \n",
    "        X = np.arange(len(promedios_por_persona)).reshape(-1, 1) \n",
    "        y = np.array(promedios_por_persona).reshape(np.array(promedios_por_persona).shape[0], -1)  # Aplanamos los vectores antes de la regresión\n",
    "\n",
    "        #print(f'El vector X tiene la forma {X.shape} y el vector y tiene la forma {y.shape}.')\n",
    "        #print(f'Para la emoción {emotion} el vector X es {X} y el vector y es {y}.')\n",
    "\n",
    "        \n",
    "        model = LinearRegression().fit(X, y)\n",
    "        results[emotion] = model.coef_.reshape(1, 18, 512)  # Restauramos la forma original\n",
    "            \n",
    "        ## results[emotion] = promedio_de_promedios_emocion\n",
    "    return results\n",
    "\n",
    "metodo_2(df)"
   ]
  },
  {
   "cell_type": "markdown",
   "id": "6224d24e-1875-4b22-a737-f9682d8283fa",
   "metadata": {},
   "source": [
    "## Comparación de Métodos 1 y 2"
   ]
  },
  {
   "cell_type": "code",
   "execution_count": 22,
   "id": "eea3aab6-ac82-4ca2-b143-eed020370480",
   "metadata": {},
   "outputs": [
    {
     "name": "stdout",
     "output_type": "stream",
     "text": [
      "{'DI': -0.015101036318919903, 'HA': -0.046714220195570144, 'SU': -0.014232274925754407, 'AN': -0.07049196307984884, 'SA': -0.11361986864433904, 'FE': -0.04737616515717158}\n"
     ]
    }
   ],
   "source": [
    "from scipy.spatial.distance import cosine\n",
    "import numpy as np\n",
    "\n",
    "# Función para calcular la similitud coseno entre dos vectores\n",
    "def cosine_similarity_vectors(v1, v2):\n",
    "    return 1 - cosine(v1.flatten(), v2.flatten())\n",
    "\n",
    "# Función para comparar método 1 vs método 2\n",
    "def compare_results(results1, results2):\n",
    "    similarities = {}\n",
    "    for emotion in results1.keys():\n",
    "        ##print(type(results1[emotion]), results1[emotion].flatten().shape)\n",
    "        similarities[emotion] = cosine_similarity_vectors(results1[emotion], results2[emotion])\n",
    "        ##similarities[emotion] = cosine_similarity(results1[emotion].flatten().reshape(1, -1), results2[emotion].flatten().reshape(1, -1))\n",
    "    return similarities\n",
    "\n",
    "print(compare_results(metodo_1(df), metodo_2(df)))"
   ]
  },
  {
   "cell_type": "code",
   "execution_count": 23,
   "id": "8a76ad0f-fe32-4dfe-b913-4a1ec6005c31",
   "metadata": {},
   "outputs": [],
   "source": [
    "import subprocess\n",
    "\n",
    "def generate_one_image_from_npz(npz, image_name):\n",
    "\n",
    "    np.savez(f\"images/processed_images/{image_name}_01_projected_w.npz\", npz)\n",
    "    \n",
    "    npz_path = f\"/scratch/images/processed_images/{image_name}_01_projected_w.npz\"\n",
    "    outdir_path = \"/scratch/images/generated_images\"\n",
    "    \n",
    "    command = [\n",
    "        \"/mnt/discoAmpliado/viky/stylegan2-ada-pytorch/docker_run.sh\",\n",
    "        \"python\",\n",
    "        \"stylegan2-ada-pytorch/generate.py\",\n",
    "        \"--network=https://nvlabs-fi-cdn.nvidia.com/stylegan2-ada-pytorch/pretrained/ffhq.pkl\",\n",
    "        f\"--outdir={outdir_path}\",\n",
    "        f\"--projected-w={npz_path}\"\n",
    "    ]    \n",
    "    print(f\"Ejecutando para la imagen: {image_name}\")\n",
    "    print(f\"Comando: {' '.join(command)}\")\n",
    "    subprocess.run(command, check=True)\n",
    "\n",
    "\n",
    "imagen_modificada_ne = getNPZ(df[df['exp']=='NE']['name'][9])\n",
    "np.savez(f\"images/processed_images/AA_prueba_ne.npz\", w=imagen_modificada_ne)\n",
    "\n",
    "imagen_modificada_ha = getNPZ(df[df['exp']=='NE']['name'][9]) + (metodo_1(df)['HA']*400)\n",
    "np.savez(f\"images/processed_images/AA_prueba_ha.npz\", w=imagen_modificada_ha)\n",
    "\n",
    "imagen_modificada_sa = getNPZ(df[df['exp']=='NE']['name'][9]) + (metodo_1(df)['SA']*400)\n",
    "np.savez(f\"images/processed_images/AA_prueba_sa.npz\", w=imagen_modificada_sa)\n",
    "\n",
    "imagen_modificada_di = getNPZ(df[df['exp']=='NE']['name'][9]) + (metodo_1(df)['DI']*400)\n",
    "np.savez(f\"images/processed_images/AA_prueba_di.npz\", w=imagen_modificada_di)\n",
    "#generate_one_image_from_npz(imagen_modificada, \"imagen_de_prueba\")"
   ]
  },
  {
   "cell_type": "code",
   "execution_count": 24,
   "id": "72c35ab5-e966-4dde-8bad-445c8fe0ad37",
   "metadata": {},
   "outputs": [
    {
     "data": {
      "text/plain": [
       "'F0030_NE00BL_F2D'"
      ]
     },
     "execution_count": 24,
     "metadata": {},
     "output_type": "execute_result"
    }
   ],
   "source": [
    "df[df['exp']=='NE']['name'][9]"
   ]
  },
  {
   "cell_type": "code",
   "execution_count": 25,
   "id": "a0f2711e-11f6-4b61-bcb1-e601bb364d6b",
   "metadata": {},
   "outputs": [
    {
     "data": {
      "text/plain": [
       "array([[[False, False, False, ..., False, False, False],\n",
       "        [False, False, False, ..., False, False, False],\n",
       "        [False, False, False, ..., False, False, False],\n",
       "        ...,\n",
       "        [False, False, False, ..., False, False, False],\n",
       "        [False, False, False, ..., False, False, False],\n",
       "        [False, False, False, ..., False, False, False]]])"
      ]
     },
     "execution_count": 25,
     "metadata": {},
     "output_type": "execute_result"
    }
   ],
   "source": [
    "imagen_modificada_ha == imagen_modificada_sa"
   ]
  },
  {
   "cell_type": "code",
   "execution_count": 26,
   "id": "38356d49-0a56-44c6-a7d6-a6d1ae9c5561",
   "metadata": {},
   "outputs": [
    {
     "ename": "NameError",
     "evalue": "name 'matriz' is not defined",
     "output_type": "error",
     "traceback": [
      "\u001b[0;31m---------------------------------------------------------------------------\u001b[0m",
      "\u001b[0;31mNameError\u001b[0m                                 Traceback (most recent call last)",
      "\u001b[0;32m<ipython-input-26-ffcdf528b5f4>\u001b[0m in \u001b[0;36m<module>\u001b[0;34m\u001b[0m\n\u001b[0;32m----> 1\u001b[0;31m \u001b[0mmatriz_normalizada\u001b[0m \u001b[0;34m=\u001b[0m \u001b[0mnp\u001b[0m\u001b[0;34m.\u001b[0m\u001b[0marray\u001b[0m\u001b[0;34m(\u001b[0m\u001b[0;34m[\u001b[0m\u001b[0mnormalize\u001b[0m\u001b[0;34m(\u001b[0m\u001b[0marr\u001b[0m\u001b[0;34m.\u001b[0m\u001b[0mreshape\u001b[0m\u001b[0;34m(\u001b[0m\u001b[0;36m1\u001b[0m\u001b[0;34m,\u001b[0m \u001b[0;34m-\u001b[0m\u001b[0;36m1\u001b[0m\u001b[0;34m)\u001b[0m\u001b[0;34m)\u001b[0m\u001b[0;34m[\u001b[0m\u001b[0;36m0\u001b[0m\u001b[0;34m]\u001b[0m \u001b[0;32mfor\u001b[0m \u001b[0marr\u001b[0m \u001b[0;32min\u001b[0m \u001b[0mmatriz\u001b[0m\u001b[0;34m]\u001b[0m\u001b[0;34m,\u001b[0m \u001b[0mdtype\u001b[0m\u001b[0;34m=\u001b[0m\u001b[0mobject\u001b[0m\u001b[0;34m)\u001b[0m\u001b[0;34m\u001b[0m\u001b[0;34m\u001b[0m\u001b[0m\n\u001b[0m\u001b[1;32m      2\u001b[0m \u001b[0;34m\u001b[0m\u001b[0m\n\u001b[1;32m      3\u001b[0m \u001b[0mprint\u001b[0m\u001b[0;34m(\u001b[0m\u001b[0mmatriz_normalizada\u001b[0m\u001b[0;34m)\u001b[0m\u001b[0;34m\u001b[0m\u001b[0;34m\u001b[0m\u001b[0m\n",
      "\u001b[0;31mNameError\u001b[0m: name 'matriz' is not defined"
     ]
    }
   ],
   "source": [
    "\n",
    "matriz_normalizada = np.array([normalize(arr.reshape(1, -1))[0] for arr in matriz], dtype=object)\n",
    "\n",
    "print(matriz_normalizada)"
   ]
  },
  {
   "cell_type": "markdown",
   "id": "dbec554e-0c6b-49ea-9d36-8f82dea651b0",
   "metadata": {},
   "source": [
    "---"
   ]
  },
  {
   "cell_type": "markdown",
   "id": "8b427fdd-2a51-438d-9966-09ad2206799b",
   "metadata": {},
   "source": [
    "# Código legacy"
   ]
  },
  {
   "cell_type": "code",
   "execution_count": null,
   "id": "3c067d22-c244-413a-a7cf-fa34814b3c1c",
   "metadata": {},
   "outputs": [],
   "source": [
    "\n",
    "def method_1_average_then_regression(df):\n",
    "    \"\"\"Método 1: Promedia los vectores por emoción y aplica regresión.\"\"\"\n",
    "    results = {}\n",
    "    emotions = ['DI', 'HA', 'SU', 'AN', 'SA', 'FE']\n",
    "    \n",
    "    for emotion in emotions:\n",
    "        subset = df[df['exp'] == emotion]\n",
    "        vectors = np.array([getNPZ(name) for name in subset['name']])\n",
    "        vectors = normalize_vectors(vectors)\n",
    "        avg_vector = np.mean(vectors, axis=0) # Podemos hacer promedio de promedios\n",
    "        \n",
    "        X = np.arange(len(vectors)).reshape(-1, 1) # por qué no usamos avg_vectors?\n",
    "        y = vectors.reshape(vectors.shape[0], -1)  # Aplanamos los vectores antes de la regresión\n",
    "\n",
    "        model = LinearRegression().fit(X, y)\n",
    "        results[emotion] = model.coef_.reshape(1, 18, 512)  # Restauramos la forma original\n",
    "    \n",
    "    return results\n",
    "\n",
    "def method_2_regression_by_emotion_and_level(df):\n",
    "    \"\"\"Método 2: Aplica regresión a cada emoción y nivel de intensidad.\"\"\"\n",
    "    results = {}\n",
    "    emotions = ['DI', 'HA', 'SU', 'AN', 'SA', 'FE']\n",
    "    \n",
    "    for emotion in emotions:\n",
    "        results[emotion] = {}  # Ahora almacenamos los resultados por nivel\n",
    "        \n",
    "        for level in sorted(df['exp_level'].unique()):\n",
    "            subset = df[(df['exp'] == emotion) & (df['exp_level'] == level)]\n",
    "            if subset.empty:\n",
    "                continue\n",
    "            vectors = np.array([getNPZ(name) for name in subset['name']])\n",
    "            vectors = normalize_vectors(vectors)\n",
    "            \n",
    "            X = np.arange(len(vectors)).reshape(-1, 1)\n",
    "            y = vectors.reshape(vectors.shape[0], -1)  # Aplanamos los vectores antes de la regresión\n",
    "            \n",
    "            model = LinearRegression().fit(X, y)\n",
    "            results[emotion][level] = model.coef_.reshape(1, 18, 512)  # Guardamos cada nivel separadamente\n",
    "    \n",
    "    return results\n",
    "\n",
    "def method_3_regression_with_level_variable(df): # Este volver a chequear qué hace\n",
    "    \"\"\"Método 3: Incluye el nivel como variable numérica en la regresión.\"\"\"\n",
    "    results = {}\n",
    "    emotions = ['DI', 'HA', 'SU', 'AN', 'SA', 'FE']\n",
    "    \n",
    "    for emotion in emotions:\n",
    "        subset = df[df['exp'] == emotion]\n",
    "        vectors = np.array([getNPZ(name) for name in subset['name']])\n",
    "        vectors = normalize_vectors(vectors)\n",
    "        levels = subset['exp_level'].values.reshape(-1, 1)\n",
    "\n",
    "        y = vectors.reshape(vectors.shape[0], -1)\n",
    "        \n",
    "        model = LinearRegression().fit(levels, y)\n",
    "        results[emotion] = model.coef_.reshape(1, 18, 512)\n",
    "    \n",
    "    return results\n",
    "\n",
    "def save_results_as_csv(results, filename):\n",
    "    flat_results = {}\n",
    "    \n",
    "    for key, value in results.items():\n",
    "        flat_results[key] = value.flatten()  # Aplanar la matriz\n",
    "    \n",
    "    df = pd.DataFrame.from_dict(flat_results, orient='index')\n",
    "    df.to_csv(filename)\n",
    "\n",
    "    save_results_as_csv(method_1_results, 'method_1_results.csv')\n",
    "\n",
    "\n",
    "def save_results_as_npz(results, filename):\n",
    "    \"\"\"Guarda los resultados en un archivo NPZ.\"\"\"\n",
    "    np.savez(filename, **results)"
   ]
  },
  {
   "cell_type": "markdown",
   "id": "a1573123-1274-4d45-bb56-efa55234257c",
   "metadata": {},
   "source": [
    "## Ejecutar los 3 métodos y guardar como npz"
   ]
  },
  {
   "cell_type": "code",
   "execution_count": null,
   "id": "e76fe8ff-5e59-40ba-8090-c8973369b0ea",
   "metadata": {},
   "outputs": [],
   "source": [
    "method_1_results = method_1_average_then_regression(df)\n",
    "method_2_results = method_2_regression_by_emotion_and_level(df)\n",
    "method_3_results = method_3_regression_with_level_variable(df)\n",
    "\n",
    "print(\"Imprimo shape de uno de los vectores para controlar formato:\")\n",
    "print(\"Resultados método 1, 'DI': \" + str(method_1_results['DI'].shape))\n",
    "print(\"Resultados método 2, 'DI': \" + str(method_2_results['DI'][1].shape))\n",
    "print(\"Resultados método 3, 'DI': \" + str(method_3_results['DI'].shape))\n",
    "\n",
    "# Guardar resultados\n",
    "save_results_as_npz(method_1_results, 'method_1_results.npz')\n",
    "save_results_as_npz(method_2_results, 'method_2_results.npz')\n",
    "save_results_as_npz(method_3_results, 'method_3_results.npz')"
   ]
  },
  {
   "cell_type": "markdown",
   "id": "56b47593-eccd-4642-8ae3-0f2dcff8c9bb",
   "metadata": {},
   "source": [
    "## Printeo la forma de los diccionarios para saber con qué estoy trabajando"
   ]
  },
  {
   "cell_type": "code",
   "execution_count": null,
   "id": "0c2e35a8-064f-407b-a835-e39bfe9e37d9",
   "metadata": {},
   "outputs": [],
   "source": [
    "def print_shape(diccionario, indent=0):\n",
    "    for clave, valor in diccionario.items():\n",
    "        # Indentación para la estructura\n",
    "        print(\"  \" * indent + f\"Clave: {clave}\", end=' ')\n",
    "        \n",
    "        if isinstance(valor, dict):\n",
    "            # Si el valor es otro diccionario, lo recorremos recursivamente\n",
    "            print(\"; Valor: Diccionario con las siguientes claves: \")\n",
    "            print_shape(valor, indent + 1)\n",
    "        elif isinstance(valor, np.ndarray):\n",
    "            # Si el valor es un array de NumPy, mostramos su forma\n",
    "            print(f\"; Valor: Array de la forma {valor.shape}\")\n",
    "        elif isinstance(valor, list):\n",
    "            # Si el valor es una lista, mostramos su longitud\n",
    "            print(f\"(Lista) - Shape: {len(valor)}\")\n",
    "        else:\n",
    "            # Si no es ni diccionario, ni array ni lista, solo mostramos el tipo\n",
    "            print(f\"({type(valor).__name__})\")\n",
    "\n",
    "print(\"Forma del diccionario correspondiente al método 1: \")\n",
    "print_shape(method_1_results)\n",
    "print(\"Fin del diccionario correspondiente al método 1.\\n\")\n",
    "print(\"Forma del diccionario correspondiente al método 2: \")\n",
    "print_shape(method_2_results)\n",
    "print(\"Fin del diccionario correspondiente al método 2.\\n\")\n",
    "print(\"Forma del diccionario correspondiente al método 3: \")\n",
    "print_shape(method_3_results)\n",
    "print(\"Fin del diccionario correspondiente al método 3.\\n\")"
   ]
  },
  {
   "cell_type": "markdown",
   "id": "17c567b1-cae2-4726-8d8b-ccd703b6af84",
   "metadata": {},
   "source": [
    "## Intentando analisis de datos"
   ]
  },
  {
   "cell_type": "markdown",
   "id": "87cd9f42-5ec4-48f6-91d6-4d8eb475aca5",
   "metadata": {},
   "source": [
    "## 1. Similitud coseno"
   ]
  },
  {
   "cell_type": "code",
   "execution_count": null,
   "id": "c909b328-f19c-49bf-b4f5-4ef8f7b40dfb",
   "metadata": {},
   "outputs": [],
   "source": []
  },
  {
   "cell_type": "code",
   "execution_count": null,
   "id": "40f031f1-c15c-456a-bfe4-9d201f99a599",
   "metadata": {},
   "outputs": [],
   "source": [
    "# Función para comparar método 1 vs método 3\n",
    "def compare_results(results1, results3):\n",
    "    similarities = {}\n",
    "    for emotion in results1.keys():\n",
    "        similarities[emotion] = cosine_similarity([results1[emotion].flatten(), results3[emotion].flatten()])\n",
    "    return similarities"
   ]
  },
  {
   "cell_type": "code",
   "execution_count": null,
   "id": "34c20f89-9cfb-4c4c-a5c7-42dec34312c3",
   "metadata": {},
   "outputs": [],
   "source": [
    "print(compare_results(method_1_results, method_3_results))"
   ]
  },
  {
   "cell_type": "code",
   "execution_count": null,
   "id": "ee198592-03d2-4fe4-aec4-0d0a76999e80",
   "metadata": {},
   "outputs": [],
   "source": []
  },
  {
   "cell_type": "code",
   "execution_count": null,
   "id": "abe990a6-738e-43c9-91c1-0ee90edda3a2",
   "metadata": {},
   "outputs": [],
   "source": []
  },
  {
   "cell_type": "code",
   "execution_count": null,
   "id": "a5ad1ad5-0ed3-4f35-9ef3-0e54c09e0aa1",
   "metadata": {},
   "outputs": [],
   "source": [
    "import matplotlib.pyplot as plt\n",
    "\n",
    "a = [1, 1]\n",
    "b = [1, 2]\n",
    "c = [2, 1]\n",
    "#X = \n",
    "#y = \n",
    "\n",
    "plt.scatter(a, b)\n",
    "plt.show()\n",
    "\n",
    "\n",
    "#model = LinearRegression().fit(X, y)\n",
    "#results[emotion] = model.coef_.reshape(1, 18, 512)"
   ]
  },
  {
   "cell_type": "code",
   "execution_count": null,
   "id": "6070bb3f-363f-4102-b953-28e3ba7ff7c5",
   "metadata": {},
   "outputs": [],
   "source": []
  },
  {
   "cell_type": "code",
   "execution_count": null,
   "id": "cae3f885-a32f-47c4-adb7-19e38412e594",
   "metadata": {
    "scrolled": true
   },
   "outputs": [],
   "source": []
  },
  {
   "cell_type": "code",
   "execution_count": null,
   "id": "36597065-7a59-4e35-aeed-b5fc318ebc51",
   "metadata": {
    "scrolled": true
   },
   "outputs": [],
   "source": []
  },
  {
   "cell_type": "code",
   "execution_count": null,
   "id": "ae354c62-1932-426c-8c5a-a44012978c19",
   "metadata": {},
   "outputs": [],
   "source": []
  },
  {
   "cell_type": "code",
   "execution_count": null,
   "id": "dce1400c-33fd-4906-a692-f16a561a5ca8",
   "metadata": {},
   "outputs": [],
   "source": []
  },
  {
   "cell_type": "code",
   "execution_count": null,
   "id": "26e2e716-022c-472a-ad82-030f71bea78b",
   "metadata": {},
   "outputs": [],
   "source": []
  },
  {
   "cell_type": "code",
   "execution_count": null,
   "id": "48628690-143c-4df6-83ec-9bb70b4d07b6",
   "metadata": {},
   "outputs": [],
   "source": []
  },
  {
   "cell_type": "code",
   "execution_count": null,
   "id": "88f07fa2-1f20-4993-9048-40b2ce9f2ff3",
   "metadata": {},
   "outputs": [],
   "source": []
  },
  {
   "cell_type": "code",
   "execution_count": null,
   "id": "caaaff2c-7b4f-42e7-82b1-68b734154e49",
   "metadata": {},
   "outputs": [],
   "source": []
  },
  {
   "cell_type": "code",
   "execution_count": null,
   "id": "983eac9b-ebdb-4b1f-a154-b6d55e1cd1f2",
   "metadata": {},
   "outputs": [],
   "source": []
  },
  {
   "cell_type": "code",
   "execution_count": null,
   "id": "af27044b-2e7a-4e5e-b5fa-50802122ed3f",
   "metadata": {},
   "outputs": [],
   "source": []
  },
  {
   "cell_type": "code",
   "execution_count": null,
   "id": "f4da8b5f-05b8-47be-91e4-e5d225df5794",
   "metadata": {},
   "outputs": [],
   "source": []
  }
 ],
 "metadata": {
  "kernelspec": {
   "display_name": "Python (stylegan)",
   "language": "python",
   "name": "stylegan"
  },
  "language_info": {
   "codemirror_mode": {
    "name": "ipython",
    "version": 3
   },
   "file_extension": ".py",
   "mimetype": "text/x-python",
   "name": "python",
   "nbconvert_exporter": "python",
   "pygments_lexer": "ipython3",
   "version": "3.8.10"
  }
 },
 "nbformat": 4,
 "nbformat_minor": 5
}
